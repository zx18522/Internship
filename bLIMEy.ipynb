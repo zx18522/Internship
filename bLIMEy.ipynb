{
 "cells": [
  {
   "cell_type": "code",
   "execution_count": 1,
   "id": "characteristic-preservation",
   "metadata": {},
   "outputs": [
    {
     "name": "stderr",
     "output_type": "stream",
     "text": [
      "21-Jun-30 14:30:54 fatf.utils.array.tools INFO     Using numpy's numpy.lib.recfunctions.structured_to_unstructured as fatf.utils.array.tools.structured_to_unstructured and fatf.utils.array.tools.structured_to_unstructured_row.\n"
     ]
    }
   ],
   "source": [
    "import fatf\n",
    "import numpy as np\n",
    "import fatf.utils.data.datasets as fatf_datasets\n",
    "import fatf.utils.models.models as fatf_models\n",
    "import sklearn.metrics\n",
    "import matplotlib.pyplot as plt\n",
    "import fatf.utils.data.discretisation as fatf_discretisation\n",
    "import sklearn\n",
    "import sklearn.ensemble"
   ]
  },
  {
   "cell_type": "code",
   "execution_count": 2,
   "id": "restricted-ballet",
   "metadata": {},
   "outputs": [],
   "source": [
    "# hence it does the “reverse sampling”, which introduces randomness to the explainer"
   ]
  },
  {
   "cell_type": "code",
   "execution_count": 3,
   "id": "european-sacramento",
   "metadata": {},
   "outputs": [
    {
     "name": "stderr",
     "output_type": "stream",
     "text": [
      "21-Jun-30 14:31:00 fatf         INFO     Seeding RNGs using the input parameter.\n",
      "21-Jun-30 14:31:00 fatf         INFO     Seeding RNGs with 42.\n"
     ]
    }
   ],
   "source": [
    "fatf.setup_random_seed(42)"
   ]
  },
  {
   "cell_type": "code",
   "execution_count": 4,
   "id": "after-peace",
   "metadata": {},
   "outputs": [],
   "source": [
    "iris_data_dict = fatf_datasets.load_iris()\n",
    "iris_data = iris_data_dict['data']\n",
    "iris_target = iris_data_dict['target']\n",
    "iris_feature_names = iris_data_dict['feature_names'].tolist()\n",
    "iris_target_names = iris_data_dict['target_names'].tolist()"
   ]
  },
  {
   "cell_type": "code",
   "execution_count": 5,
   "id": "optional-wright",
   "metadata": {},
   "outputs": [
    {
     "data": {
      "text/plain": [
       "RandomForestClassifier(n_estimators=10)"
      ]
     },
     "execution_count": 5,
     "metadata": {},
     "output_type": "execute_result"
    }
   ],
   "source": [
    "blackbox_model = sklearn.ensemble.RandomForestClassifier(n_estimators=10)\n",
    "blackbox_model.fit(iris_data, iris_target)"
   ]
  },
  {
   "cell_type": "code",
   "execution_count": 6,
   "id": "compliant-consultancy",
   "metadata": {},
   "outputs": [
    {
     "data": {
      "text/plain": [
       "1.0"
      ]
     },
     "execution_count": 6,
     "metadata": {},
     "output_type": "execute_result"
    }
   ],
   "source": [
    "predictions = blackbox_model.predict(iris_data)\n",
    "sklearn.metrics.accuracy_score(iris_target, predictions)"
   ]
  },
  {
   "cell_type": "code",
   "execution_count": 7,
   "id": "roman-crisis",
   "metadata": {},
   "outputs": [
    {
     "data": {
      "text/plain": [
       "array([5.1, 3.5, 1.4, 0.2], dtype=float32)"
      ]
     },
     "execution_count": 7,
     "metadata": {},
     "output_type": "execute_result"
    }
   ],
   "source": [
    "data_point = iris_data[0]\n",
    "data_point"
   ]
  },
  {
   "cell_type": "code",
   "execution_count": 8,
   "id": "civic-affair",
   "metadata": {},
   "outputs": [
    {
     "data": {
      "text/plain": [
       "array([5.1, 3.5, 1.4, 0.2], dtype=float32)"
      ]
     },
     "execution_count": 8,
     "metadata": {},
     "output_type": "execute_result"
    }
   ],
   "source": [
    "data_point_probabilities = blackbox_model.predict_proba(\n",
    "data_point.reshape(1, -1))[0]\n",
    "data_point"
   ]
  },
  {
   "cell_type": "code",
   "execution_count": 9,
   "id": "normal-newfoundland",
   "metadata": {},
   "outputs": [
    {
     "data": {
      "text/plain": [
       "array([1., 0., 0.])"
      ]
     },
     "execution_count": 9,
     "metadata": {},
     "output_type": "execute_result"
    }
   ],
   "source": [
    "data_point_probabilities"
   ]
  },
  {
   "cell_type": "code",
   "execution_count": 10,
   "id": "august-title",
   "metadata": {},
   "outputs": [
    {
     "data": {
      "text/plain": [
       "0"
      ]
     },
     "execution_count": 10,
     "metadata": {},
     "output_type": "execute_result"
    }
   ],
   "source": [
    "data_point_prediction = data_point_probabilities.argmax(axis=0)\n",
    "data_point_prediction"
   ]
  },
  {
   "cell_type": "code",
   "execution_count": 11,
   "id": "agricultural-professional",
   "metadata": {},
   "outputs": [
    {
     "data": {
      "text/plain": [
       "'setosa'"
      ]
     },
     "execution_count": 11,
     "metadata": {},
     "output_type": "execute_result"
    }
   ],
   "source": [
    "data_point_class = iris_target_names[data_point_prediction]\n",
    "data_point_class"
   ]
  },
  {
   "cell_type": "code",
   "execution_count": 12,
   "id": "vertical-bosnia",
   "metadata": {},
   "outputs": [
    {
     "data": {
      "image/png": "[encoded data removed]",
      "text/plain": [
       "<Figure size 432x288 with 1 Axes>"
      ]
     },
     "metadata": {
      "needs_background": "light"
     },
     "output_type": "display_data"
    }
   ],
   "source": [
    ">>> iris_feature_names[2:]\n",
    "['petal length (cm)', 'petal width (cm)']\n",
    "\n",
    "_ = plt.figure()\n",
    "_ = plt.scatter(\n",
    "    iris_data[1:50, 2],\n",
    "    iris_data[1:50, 3],\n",
    "    label=iris_target_names[0])\n",
    "_ = plt.scatter(\n",
    "    iris_data[50:100, 2],\n",
    "    iris_data[50:100, 3],\n",
    "    label=iris_target_names[1])\n",
    "_ = plt.scatter(\n",
    "    iris_data[100:150, 2],\n",
    "    iris_data[100:150, 3],\n",
    "    label=iris_target_names[2])\n",
    "_ = plt.scatter(\n",
    "    data_point[2],\n",
    "    data_point[3],\n",
    "label='Explained Data Point',\n",
    "   s=200, c='k')\n",
    "\n",
    "_ = plt.xlabel(iris_feature_names[2])\n",
    "_ = plt.ylabel(iris_feature_names[3])\n",
    "_ = plt.legend()"
   ]
  },
  {
   "cell_type": "code",
   "execution_count": 13,
   "id": "champion-lunch",
   "metadata": {},
   "outputs": [],
   "source": [
    "# quartile discretiser\n",
    "discretiser = fatf_discretisation.QuartileDiscretiser(iris_data,feature_names=iris_feature_names)"
   ]
  },
  {
   "cell_type": "code",
   "execution_count": 14,
   "id": "little-suspension",
   "metadata": {},
   "outputs": [],
   "source": [
    "import fatf.utils.data.augmentation as fatf_augmentation\n",
    "augmenter = fatf_augmentation.Mixup(iris_data, ground_truth=iris_target)"
   ]
  },
  {
   "cell_type": "code",
   "execution_count": 15,
   "id": "varied-start",
   "metadata": {},
   "outputs": [],
   "source": [
    "# # ridge regression for explanation generation\n",
    "import sklearn.linear_model\n",
    "lime = sklearn.linear_model.Ridge()"
   ]
  },
  {
   "cell_type": "code",
   "execution_count": 16,
   "id": "subject-implementation",
   "metadata": {},
   "outputs": [],
   "source": [
    "# ~~~~~~~~~~~~~~~~~~~~~~~~~~~~~~~~~~~~~~ Data Augmentation ~~~~~~~~~~~~~~~~~~~~~~~~~~~~~~~~~~~~~~~~~~~~~~~~~~~~~~~"
   ]
  },
  {
   "cell_type": "code",
   "execution_count": 17,
   "id": "fifty-monitoring",
   "metadata": {},
   "outputs": [
    {
     "data": {
      "image/png": "[encoded data removed]",
      "text/plain": [
       "<Figure size 432x288 with 1 Axes>"
      ]
     },
     "metadata": {
      "needs_background": "light"
     },
     "output_type": "display_data"
    }
   ],
   "source": [
    "sampled_data = augmenter.sample(data_point, samples_number=50)\n",
    "sampled_data_probabilities = blackbox_model.predict_proba(sampled_data)\n",
    "sampled_data_predictions = sampled_data_probabilities.argmax(axis=1)\n",
    "sampled_data_0_indices = np.where(sampled_data_predictions == 0)[0]\n",
    "sampled_data_1_indices = np.where(sampled_data_predictions == 1)[0]\n",
    "sampled_data_2_indices = np.where(sampled_data_predictions == 2)\n",
    "_ = plt.figure()\n",
    "_ = plt.scatter(\n",
    "    iris_data[1:50, 2],\n",
    "    iris_data[1:50, 3],\n",
    "    label=iris_target_names[0])\n",
    "_ = plt.scatter(    iris_data[50:100, 2],\n",
    "    iris_data[50:100, 3],\n",
    "    label=iris_target_names[1])\n",
    "_ = plt.scatter(\n",
    "    iris_data[100:150, 2],\n",
    "    iris_data[100:150, 3],\n",
    "    label=iris_target_names[2])\n",
    "_ = plt.scatter(\n",
    "    data_point[2],\n",
    "    data_point[3],\n",
    "    label='Explained Data Point: {}'.format(data_point_class),\n",
    "    s=200,\n",
    "    c='k')\n",
    "_ = plt.scatter(\n",
    "    sampled_data[sampled_data_0_indices, 2],\n",
    "    sampled_data[sampled_data_0_indices, 3],\n",
    "    label='Augmented Data: {}'.format(iris_target_names[0]))\n",
    "_ = plt.scatter(\n",
    "    sampled_data[sampled_data_1_indices, 2],\n",
    "    sampled_data[sampled_data_1_indices, 3],\n",
    "    label='Augmented Data: {}'.format(iris_target_names[1]))\n",
    "_ = plt.scatter(\n",
    "    sampled_data[sampled_data_2_indices, 2],\n",
    "    sampled_data[sampled_data_2_indices, 3],\n",
    "    label='Augmented Data: {}'.format(iris_target_names[2]))\n",
    "_ = plt.xlabel(iris_feature_names[2])\n",
    "_ = plt.ylabel(iris_feature_names[3])\n",
    "_ = plt.legend()"
   ]
  },
  {
   "cell_type": "code",
   "execution_count": 18,
   "id": "super-organic",
   "metadata": {},
   "outputs": [],
   "source": [
    "# ~~~~~~~~~~~~~~~~~~~~~~~~~~~~~~~~~~~~~~~~~~~~ Interpretable Representation ~~~~~~~~~~~~~~~~~~~~~~~~~~~~~~~~~~~~~~~~~~~~~~~~~"
   ]
  },
  {
   "cell_type": "code",
   "execution_count": 19,
   "id": "accepted-shareware",
   "metadata": {},
   "outputs": [],
   "source": [
    "import fatf.utils.data.transformation as fatf_transformation\n",
    "data_point_discretised = discretiser.discretise(data_point) # all data\n",
    "sampled_data_discretised = discretiser.discretise(sampled_data) # Sample data\n",
    "\n",
    "# from the 4*4 to the binary interpretable reprecentation.\n",
    "sampled_data_binarised = fatf_transformation.dataset_row_masking(\n",
    "sampled_data_discretised, data_point_discretised)"
   ]
  },
  {
   "cell_type": "code",
   "execution_count": 37,
   "id": "cellular-rover",
   "metadata": {},
   "outputs": [
    {
     "data": {
      "text/plain": [
       "array([0, 1, 1, 1], dtype=int8)"
      ]
     },
     "execution_count": 37,
     "metadata": {},
     "output_type": "execute_result"
    }
   ],
   "source": [
    "sampled_data_binarised[0, :]"
   ]
  },
  {
   "cell_type": "code",
   "execution_count": 21,
   "id": "successful-shame",
   "metadata": {},
   "outputs": [],
   "source": [
    "import fatf.utils.distances as fatf_distances\n",
    "import fatf.utils.kernels as fatf_kernels\n",
    "features_number = sampled_data_binarised.shape[1]\n",
    "kernel_width = np.sqrt(features_number) * 0.75  # LIME Karnel constat (something proportional to the sqrt of n_features)\n",
    "\n",
    "distances = fatf_distances.euclidean_point_distance(\n",
    "    np.ones(features_number), sampled_data_binarised)\n",
    "weights = fatf_kernels.exponential_kernel(\n",
    "    distances, width=kernel_width) # Exponential kernal"
   ]
  },
  {
   "cell_type": "code",
   "execution_count": 22,
   "id": "arranged-duplicate",
   "metadata": {},
   "outputs": [
    {
     "data": {
      "text/plain": [
       "array([[1, 1, 1, 1]], dtype=int8)"
      ]
     },
     "execution_count": 22,
     "metadata": {},
     "output_type": "execute_result"
    }
   ],
   "source": [
    "fatf_transformation.dataset_row_masking(\n",
    "    data_point_discretised.reshape(1, -1), data_point_discretised)"
   ]
  },
  {
   "cell_type": "code",
   "execution_count": 23,
   "id": "composed-reproduction",
   "metadata": {},
   "outputs": [
    {
     "data": {
      "text/plain": [
       "0"
      ]
     },
     "execution_count": 23,
     "metadata": {},
     "output_type": "execute_result"
    }
   ],
   "source": [
    "iris_target_names.index('setosa')"
   ]
  },
  {
   "cell_type": "code",
   "execution_count": 24,
   "id": "circular-walter",
   "metadata": {},
   "outputs": [],
   "source": [
    "sampled_data_predictions_setosa = sampled_data_probabilities[:, 0]"
   ]
  },
  {
   "cell_type": "code",
   "execution_count": 25,
   "id": "reserved-camel",
   "metadata": {},
   "outputs": [],
   "source": [
    "import fatf.utils.data.feature_selection.sklearn as fatf_feature_ssk\n",
    "\n",
    "lasso_indices = fatf_feature_ssk.lasso_path(\n",
    "    sampled_data_binarised, sampled_data_predictions_setosa, weights, 2) # feature selection selects the top 2 (out of 4)"
   ]
  },
  {
   "cell_type": "code",
   "execution_count": 26,
   "id": "sealed-bahrain",
   "metadata": {},
   "outputs": [],
   "source": [
    "sampled_data_binarised_2f = sampled_data_binarised[:, lasso_indices]"
   ]
  },
  {
   "cell_type": "code",
   "execution_count": 27,
   "id": "specific-central",
   "metadata": {},
   "outputs": [],
   "source": [
    "interpretable_feature_names = []\n",
    "for feature_index in lasso_indices:\n",
    "    bin_id = data_point_discretised[feature_index].astype(int)\n",
    "    interpretable_feature_name = (\n",
    "        discretiser.feature_value_names[feature_index][bin_id])\n",
    "    interpretable_feature_names.append(interpretable_feature_name)\n",
    "    interpretable_feature_names"
   ]
  },
  {
   "cell_type": "code",
   "execution_count": 28,
   "id": "artificial-absence",
   "metadata": {},
   "outputs": [
    {
     "data": {
      "text/plain": [
       "Ridge()"
      ]
     },
     "execution_count": 28,
     "metadata": {},
     "output_type": "execute_result"
    }
   ],
   "source": [
    "lime.fit(\n",
    "     sampled_data_binarised_2f,\n",
    "     sampled_data_predictions_setosa,\n",
    "     sample_weight=weights)\n"
   ]
  },
  {
   "cell_type": "code",
   "execution_count": 29,
   "id": "falling-valuable",
   "metadata": {},
   "outputs": [
    {
     "name": "stdout",
     "output_type": "stream",
     "text": [
      "->*sepal length (cm)* <= 5.10<-: 0.2819720103666909\n",
      "->*petal length (cm)* <= 1.60<-: 0.6075655408137073\n"
     ]
    }
   ],
   "source": [
    "for name, importance in zip(interpretable_feature_names, lime.coef_):\n",
    "     print('->{}<-: {}'.format(name, importance))"
   ]
  },
  {
   "cell_type": "code",
   "execution_count": 30,
   "id": "collectible-progress",
   "metadata": {},
   "outputs": [],
   "source": [
    "# Surrogate Tree"
   ]
  },
  {
   "cell_type": "code",
   "execution_count": 31,
   "id": "educated-brand",
   "metadata": {},
   "outputs": [],
   "source": [
    "features_number = sampled_data.shape[1]\n",
    "kernel_width = np.sqrt(features_number) * 0.75\n",
    "\n",
    "distances = fatf_distances.euclidean_point_distance(\n",
    "    data_point, sampled_data)\n",
    "weights = fatf_kernels.exponential_kernel(\n",
    "    distances, width=kernel_width)"
   ]
  },
  {
   "cell_type": "code",
   "execution_count": 32,
   "id": "ultimate-valve",
   "metadata": {},
   "outputs": [
    {
     "data": {
      "text/plain": [
       "DecisionTreeClassifier(max_depth=3)"
      ]
     },
     "execution_count": 32,
     "metadata": {},
     "output_type": "execute_result"
    }
   ],
   "source": [
    "import sklearn.tree\n",
    "\n",
    "blimey_tree = sklearn.tree.DecisionTreeClassifier(max_depth=3) # 3 is  the Parameter ... the smaller the more interpretable\n",
    "blimey_tree.fit(\n",
    "    sampled_data, sampled_data_predictions, sample_weight=weights)"
   ]
  },
  {
   "cell_type": "code",
   "execution_count": 33,
   "id": "fourth-measurement",
   "metadata": {
    "scrolled": true
   },
   "outputs": [
    {
     "name": "stdout",
     "output_type": "stream",
     "text": [
      "->sepal length (cm)<-: 0.0\n",
      "->sepal width (cm)<-: 0.0\n",
      "->petal length (cm)<-: 1.0\n",
      "->petal width (cm)<-: 0.0\n"
     ]
    }
   ],
   "source": [
    "for n_i in zip(iris_feature_names, blimey_tree.feature_importances_):\n",
    "     name, importance = n_i\n",
    "     print('->{}<-: {}'.format(name, importance))"
   ]
  },
  {
   "cell_type": "code",
   "execution_count": 34,
   "id": "compressed-rouge",
   "metadata": {},
   "outputs": [
    {
     "name": "stdout",
     "output_type": "stream",
     "text": [
      "|--- petal length (cm) <= 2.22\n",
      "|   |--- class: 0\n",
      "|--- petal length (cm) >  2.22\n",
      "|   |--- petal length (cm) <= 4.72\n",
      "|   |   |--- class: 1\n",
      "|   |--- petal length (cm) >  4.72\n",
      "|   |   |--- class: 2\n",
      "\n"
     ]
    }
   ],
   "source": [
    "blimey_tree_text = sklearn.tree.export_text(\n",
    "    blimey_tree, feature_names=iris_feature_names)\n",
    "print(blimey_tree_text)"
   ]
  },
  {
   "cell_type": "code",
   "execution_count": 35,
   "id": "revolutionary-baseball",
   "metadata": {},
   "outputs": [
    {
     "data": {
      "image/png": "[encoded data removed]",
      "text/plain": [
       "<Figure size 432x288 with 1 Axes>"
      ]
     },
     "metadata": {
      "needs_background": "light"
     },
     "output_type": "display_data"
    }
   ],
   "source": [
    "_ = plt.figure()\n",
    "_ = plt.scatter(\n",
    "    sampled_data[sampled_data_0_indices, 2],\n",
    "    sampled_data[sampled_data_0_indices, 3],\n",
    "    label='Augmented Data: {}'.format(iris_target_names[0]))\n",
    "_ = plt.scatter(\n",
    "    sampled_data[sampled_data_1_indices, 2],\n",
    "    sampled_data[sampled_data_1_indices, 3],\n",
    "    label='Augmented Data: {}'.format(iris_target_names[1]))\n",
    "_ = plt.scatter(\n",
    "    sampled_data[sampled_data_2_indices, 2],\n",
    "    sampled_data[sampled_data_2_indices, 3],\n",
    "    label='Augmented Data: {}'.format(iris_target_names[2]))\n",
    "_ = plt.scatter(\n",
    "    data_point[2],\n",
    "    data_point[3],\n",
    "    label='Explained Data Point: {}'.format(data_point_class),\n",
    "    s=200,\n",
    "    c='k')\n",
    "\n",
    "_ = plt.xlabel(iris_feature_names[2])\n",
    "_ = plt.ylabel(iris_feature_names[3])\n",
    "_ = plt.legend()"
   ]
  },
  {
   "cell_type": "code",
   "execution_count": null,
   "id": "veterinary-piano",
   "metadata": {},
   "outputs": [],
   "source": []
  }
 ],
 "metadata": {
  "kernelspec": {
   "display_name": "Python 3.8 (pytorch)",
   "language": "python",
   "name": "pytorch"
  },
  "language_info": {
   "codemirror_mode": {
    "name": "ipython",
    "version": 3
   },
   "file_extension": ".py",
   "mimetype": "text/x-python",
   "name": "python",
   "nbconvert_exporter": "python",
   "pygments_lexer": "ipython3",
   "version": "3.8.8"
  }
 },
 "nbformat": 4,
 "nbformat_minor": 5
}
