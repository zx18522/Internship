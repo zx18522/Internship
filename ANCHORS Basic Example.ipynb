{
 "cells": [
  {
   "cell_type": "code",
   "execution_count": 1,
   "id": "correct-button",
   "metadata": {},
   "outputs": [],
   "source": [
    "from __future__ import print_function\n",
    "import numpy as np\n",
    "np.random.seed(1)\n",
    "import sys\n",
    "import sklearn\n",
    "import sklearn.ensemble\n",
    "%load_ext autoreload\n",
    "%autoreload 2\n",
    "from anchor import utils\n",
    "from anchor import anchor_tabular\n",
    "\n",
    "import fatf\n",
    "import fatf.utils.data.datasets as fatf_datasets"
   ]
  },
  {
   "cell_type": "code",
   "execution_count": 2,
   "id": "understanding-worthy",
   "metadata": {},
   "outputs": [],
   "source": [
    "iris_data_dict = fatf_datasets.load_iris()\n",
    "iris_data = iris_data_dict['data']\n",
    "iris_target = iris_data_dict['target']\n",
    "iris_feature_names = iris_data_dict['feature_names'].tolist()\n",
    "iris_target_names = iris_data_dict['target_names'].tolist()\n",
    "\n"
   ]
  },
  {
   "cell_type": "code",
   "execution_count": 3,
   "id": "collective-testimony",
   "metadata": {},
   "outputs": [],
   "source": [
    "train, test, labels_train, labels_test = sklearn.model_selection.train_test_split(iris_data, iris_target, train_size=0.80)"
   ]
  },
  {
   "cell_type": "code",
   "execution_count": 4,
   "id": "acute-price",
   "metadata": {},
   "outputs": [
    {
     "name": "stdout",
     "output_type": "stream",
     "text": [
      "Train 1.0\n",
      "Test 0.9666666666666667\n"
     ]
    }
   ],
   "source": [
    "blackbox_model = sklearn.ensemble.RandomForestClassifier(n_estimators=10)\n",
    "blackbox_model.fit(train, labels_train)\n",
    "print('Train', sklearn.metrics.accuracy_score(labels_train, blackbox_model.predict(train)))\n",
    "print('Test', sklearn.metrics.accuracy_score(labels_test, blackbox_model.predict(test)))"
   ]
  },
  {
   "cell_type": "code",
   "execution_count": 5,
   "id": "oriented-quebec",
   "metadata": {},
   "outputs": [],
   "source": [
    "explainer = anchor_tabular.AnchorTabularExplainer(\n",
    "    iris_target_names,\n",
    "    iris_feature_names,\n",
    "    train)"
   ]
  },
  {
   "cell_type": "code",
   "execution_count": 17,
   "id": "little-threshold",
   "metadata": {},
   "outputs": [
    {
     "name": "stdout",
     "output_type": "stream",
     "text": [
      "Prediction:  versicolor\n"
     ]
    }
   ],
   "source": [
    "idx = 2\n",
    "np.random.seed(1)\n",
    "print('Prediction: ', explainer.class_names[int(blackbox_model.predict(test[idx].reshape(1, -1))[0])])\n",
    "exp = explainer.explain_instance(test[idx], blackbox_model.predict, threshold=0.95)"
   ]
  },
  {
   "cell_type": "code",
   "execution_count": 18,
   "id": "sunset-clothing",
   "metadata": {},
   "outputs": [
    {
     "name": "stdout",
     "output_type": "stream",
     "text": [
      "Anchor: 1.60 < petal length (cm) <= 5.12 AND petal width (cm) <= 1.80 AND sepal length (cm) > 6.40\n",
      "Precision: 0.94\n",
      "Coverage: 0.06\n"
     ]
    }
   ],
   "source": [
    "print('Anchor: %s' % (' AND '.join(exp.names())))\n",
    "print('Precision: %.2f' % exp.precision())\n",
    "print('Coverage: %.2f' % exp.coverage())"
   ]
  },
  {
   "cell_type": "code",
   "execution_count": 8,
   "id": "victorian-administrator",
   "metadata": {},
   "outputs": [
    {
     "data": {
      "text/plain": [
       "[2, 2, 3, 0]"
      ]
     },
     "execution_count": 8,
     "metadata": {},
     "output_type": "execute_result"
    }
   ],
   "source": [
    "exp.features()"
   ]
  },
  {
   "cell_type": "code",
   "execution_count": 9,
   "id": "rolled-environment",
   "metadata": {},
   "outputs": [
    {
     "data": {
      "text/plain": [
       "array([4.4, 4.4, 1.4, 6.6], dtype=float32)"
      ]
     },
     "execution_count": 9,
     "metadata": {},
     "output_type": "execute_result"
    }
   ],
   "source": [
    "test[idx][exp.features()]"
   ]
  },
  {
   "cell_type": "code",
   "execution_count": 10,
   "id": "certain-spine",
   "metadata": {},
   "outputs": [
    {
     "name": "stdout",
     "output_type": "stream",
     "text": [
      "Anchor test precision: 1.00\n",
      "Anchor test coverage: 0.03\n"
     ]
    }
   ],
   "source": [
    "# Get test examples where the anchora pplies\n",
    "fit_anchor = np.where(np.all(test[:, exp.features()] == test[idx][exp.features()], axis=1))[0]\n",
    "print('Anchor test precision: %.2f' % (np.mean(blackbox_model.predict(test[fit_anchor]) == blackbox_model.predict(test[idx].reshape(1, -1)))))\n",
    "print('Anchor test coverage: %.2f' % (fit_anchor.shape[0] / float(test.shape[0])))"
   ]
  },
  {
   "cell_type": "code",
   "execution_count": 11,
   "id": "fifth-while",
   "metadata": {},
   "outputs": [
    {
     "name": "stdout",
     "output_type": "stream",
     "text": [
      "Partial anchor: 1.60 < petal length (cm) <= 5.12 AND petal width (cm) <= 1.80\n",
      "Partial precision: 0.73\n",
      "Partial coverage: 0.45\n"
     ]
    }
   ],
   "source": [
    "print('Partial anchor: %s' % (' AND '.join(exp.names(1))))\n",
    "print('Partial precision: %.2f' % exp.precision(1))\n",
    "print('Partial coverage: %.2f' % exp.coverage(1))"
   ]
  },
  {
   "cell_type": "code",
   "execution_count": 12,
   "id": "crazy-amateur",
   "metadata": {},
   "outputs": [
    {
     "name": "stdout",
     "output_type": "stream",
     "text": [
      "Partial anchor test precision: 1.00\n",
      "Partial anchor test coverage: 0.07\n"
     ]
    }
   ],
   "source": [
    "fit_partial = np.where(np.all(test[:, exp.features(1)] == test[idx][exp.features(1)], axis=1))[0]\n",
    "print('Partial anchor test precision: %.2f' % (np.mean(blackbox_model.predict(test[fit_partial]) == blackbox_model.predict(test[idx].reshape(1, -1)))))\n",
    "print('Partial anchor test coverage: %.2f' % (fit_partial.shape[0] / float(test.shape[0])))"
   ]
  },
  {
   "cell_type": "code",
   "execution_count": null,
   "id": "cordless-blackjack",
   "metadata": {},
   "outputs": [],
   "source": []
  },
  {
   "cell_type": "code",
   "execution_count": null,
   "id": "exceptional-chicago",
   "metadata": {},
   "outputs": [],
   "source": []
  },
  {
   "cell_type": "code",
   "execution_count": null,
   "id": "vital-shareware",
   "metadata": {},
   "outputs": [],
   "source": []
  }
 ],
 "metadata": {
  "kernelspec": {
   "display_name": "Python 3.8 (pytorch)",
   "language": "python",
   "name": "pytorch"
  },
  "language_info": {
   "codemirror_mode": {
    "name": "ipython",
    "version": 3
   },
   "file_extension": ".py",
   "mimetype": "text/x-python",
   "name": "python",
   "nbconvert_exporter": "python",
   "pygments_lexer": "ipython3",
   "version": "3.8.8"
  }
 },
 "nbformat": 4,
 "nbformat_minor": 5
}
